{
 "cells": [
  {
   "cell_type": "code",
   "execution_count": 2,
   "id": "838c19f7-edcd-49f8-a7af-f7fea9c79696",
   "metadata": {},
   "outputs": [
    {
     "name": "stdout",
     "output_type": "stream",
     "text": [
      "Datos cargados. Tamaño train: (4457,) tamaño test: (1115,)\n"
     ]
    }
   ],
   "source": [
    "# 02_optimizacion_modelos_sms_spam.ipynb\n",
    "\n",
    "import pandas as pd\n",
    "import numpy as np\n",
    "\n",
    "# Scikit-learn y métricas\n",
    "from sklearn.model_selection       import train_test_split, GridSearchCV, RandomizedSearchCV, cross_val_score\n",
    "from sklearn.feature_extraction.text import CountVectorizer, TfidfVectorizer\n",
    "from sklearn.pipeline              import Pipeline\n",
    "from sklearn.preprocessing         import FunctionTransformer, StandardScaler\n",
    "from sklearn.metrics               import classification_report, confusion_matrix, roc_curve, auc, f1_score\n",
    "\n",
    "# Clasificadores\n",
    "from sklearn.linear_model          import LogisticRegression\n",
    "from sklearn.svm                   import SVC\n",
    "from sklearn.ensemble              import RandomForestClassifier, VotingClassifier\n",
    "from sklearn.neighbors             import KNeighborsClassifier\n",
    "from sklearn.naive_bayes           import MultinomialNB\n",
    "from sklearn.neural_network        import MLPClassifier\n",
    "from sklearn.ensemble              import StackingClassifier\n",
    "\n",
    "# Boosting libraries\n",
    "import xgboost as xgb\n",
    "import lightgbm as lgb\n",
    "\n",
    "import matplotlib.pyplot as plt\n",
    "\n",
    "# Cargar datos (igual que en el notebook anterior)\n",
    "ruta = \"../datos_raw/SMSSpamCollection\"\n",
    "df = pd.read_csv(ruta, sep=\"\\t\", header=None, names=[\"label\", \"text\"], encoding=\"utf-8\")\n",
    "df[\"label_bin\"] = df[\"label\"].map({\"ham\": 0, \"spam\": 1})\n",
    "\n",
    "# División inicial en train/test (mantener proporción)\n",
    "X_train_raw, X_test_raw, y_train, y_test = train_test_split(\n",
    "    df[\"text\"], df[\"label_bin\"],\n",
    "    test_size=0.2,\n",
    "    random_state=42,\n",
    "    stratify=df[\"label_bin\"]\n",
    ")\n",
    "\n",
    "print(\"Datos cargados. Tamaño train:\", X_train_raw.shape, \"tamaño test:\", X_test_raw.shape)"
   ]
  },
  {
   "cell_type": "code",
   "execution_count": null,
   "id": "3bcdcdda-30d6-44de-83ad-37fba4d01e6e",
   "metadata": {},
   "outputs": [],
   "source": []
  }
 ],
 "metadata": {
  "kernelspec": {
   "display_name": "Python 3 (ipykernel)",
   "language": "python",
   "name": "python3"
  },
  "language_info": {
   "codemirror_mode": {
    "name": "ipython",
    "version": 3
   },
   "file_extension": ".py",
   "mimetype": "text/x-python",
   "name": "python",
   "nbconvert_exporter": "python",
   "pygments_lexer": "ipython3",
   "version": "3.12.5"
  }
 },
 "nbformat": 4,
 "nbformat_minor": 5
}
