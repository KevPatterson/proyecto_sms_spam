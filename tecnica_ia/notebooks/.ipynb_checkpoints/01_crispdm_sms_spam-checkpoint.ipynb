{
 "cells": [
  {
   "cell_type": "code",
   "execution_count": 4,
   "id": "9a1d74b2-4e00-4371-bc7b-66e024d59e7f",
   "metadata": {},
   "outputs": [
    {
     "name": "stdout",
     "output_type": "stream",
     "text": [
      "Número total de registros: 5572\n",
      "label\n",
      "ham     4825\n",
      "spam     747\n",
      "Name: count, dtype: int64 \n",
      "\n",
      "  label                                               text\n",
      "0   ham  Go until jurong point, crazy.. Available only ...\n",
      "1   ham                      Ok lar... Joking wif u oni...\n",
      "2  spam  Free entry in 2 a wkly comp to win FA Cup fina...\n",
      "3   ham  U dun say so early hor... U c already then say...\n",
      "4   ham  Nah I don't think he goes to usf, he lives aro...\n",
      "5  spam  FreeMsg Hey there darling it's been 3 week's n...\n",
      "6   ham  Even my brother is not like to speak with me. ...\n",
      "7   ham  As per your request 'Melle Melle (Oru Minnamin...\n",
      "8  spam  WINNER!! As a valued network customer you have...\n",
      "9  spam  Had your mobile 11 months or more? U R entitle...\n",
      "\n",
      "Información de columnas y tipos de dato:\n",
      "<class 'pandas.core.frame.DataFrame'>\n",
      "RangeIndex: 5572 entries, 0 to 5571\n",
      "Data columns (total 2 columns):\n",
      " #   Column  Non-Null Count  Dtype \n",
      "---  ------  --------------  ----- \n",
      " 0   label   5572 non-null   object\n",
      " 1   text    5572 non-null   object\n",
      "dtypes: object(2)\n",
      "memory usage: 87.2+ KB\n",
      "None\n"
     ]
    }
   ],
   "source": [
    "import pandas as pd\n",
    "\n",
    "# 1) Cargar el archivo\n",
    "ruta = \"../datos_raw/SMSSpamCollection\"  # Ajusta si cambias la ruta\n",
    "# El archivo viene sin cabeceras, separador es tabulador: etiqueta (spam/ham) \\t mensaje\n",
    "df = pd.read_csv(ruta, sep=\"\\t\", header=None, names=[\"label\", \"text\"], encoding=\"utf-8\")\n",
    "\n",
    "# 2) Primer vistazo\n",
    "print(\"Número total de registros:\", df.shape[0])\n",
    "print(df[\"label\"].value_counts(), \"\\n\")     # Ver cuántos 'ham' y cuántos 'spam'\n",
    "print(df.head(10))                           # Mostrar las primeras 10 filas\n",
    "print(\"\\nInformación de columnas y tipos de dato:\")\n",
    "print(df.info())\n"
   ]
  },
  {
   "cell_type": "code",
   "execution_count": 5,
   "id": "7577b316-3538-447e-b517-706fcb3473c9",
   "metadata": {},
   "outputs": [
    {
     "name": "stdout",
     "output_type": "stream",
     "text": [
      "Shape X_train: (4457, 3376)\n",
      "Shape X_test: (1115, 3376)\n"
     ]
    }
   ],
   "source": [
    "from sklearn.model_selection import train_test_split\n",
    "from sklearn.feature_extraction.text import TfidfVectorizer\n",
    "\n",
    "# 1) Convertir etiquetas a valores binarios\n",
    "df[\"label_bin\"] = df[\"label\"].map({\"ham\": 0, \"spam\": 1})\n",
    "\n",
    "# 2) Dividir en train/test (manteniendo proporción de clases)\n",
    "X_train_raw, X_test_raw, y_train, y_test = train_test_split(\n",
    "    df[\"text\"], df[\"label_bin\"], test_size=0.2, random_state=42, stratify=df[\"label_bin\"]\n",
    ")\n",
    "\n",
    "# 3) Vectorización TF-IDF\n",
    "vectorizer = TfidfVectorizer(\n",
    "    lowercase=True,\n",
    "    strip_accents=\"unicode\",\n",
    "    stop_words=\"english\",\n",
    "    min_df=2           # descartar términos que aparezcan menos de 2 veces\n",
    ")\n",
    "\n",
    "# Ajustar el vectorizador con el conjunto de entrenamiento\n",
    "X_train = vectorizer.fit_transform(X_train_raw)\n",
    "X_test = vectorizer.transform(X_test_raw)\n",
    "\n",
    "print(\"Shape X_train:\", X_train.shape)\n",
    "print(\"Shape X_test:\", X_test.shape)\n"
   ]
  },
  {
   "cell_type": "code",
   "execution_count": 6,
   "id": "831c7b49-6ec1-47b5-96dd-23f6b5823deb",
   "metadata": {},
   "outputs": [
    {
     "name": "stdout",
     "output_type": "stream",
     "text": [
      "Métricas de clasificación para Naive Bayes:\n",
      "\n",
      "              precision    recall  f1-score   support\n",
      "\n",
      "         ham       0.97      1.00      0.99       966\n",
      "        spam       1.00      0.81      0.89       149\n",
      "\n",
      "    accuracy                           0.97      1115\n",
      "   macro avg       0.99      0.90      0.94      1115\n",
      "weighted avg       0.97      0.97      0.97      1115\n",
      "\n",
      "Matriz de confusión:\n",
      " [[966   0]\n",
      " [ 29 120]]\n"
     ]
    }
   ],
   "source": [
    "from sklearn.naive_bayes import MultinomialNB\n",
    "from sklearn.metrics import classification_report, confusion_matrix\n",
    "\n",
    "# 1) Entrenar Naive Bayes (Multinomial) — funciona bien con conteo/TF-IDF de palabras\n",
    "modelo_nb = MultinomialNB()\n",
    "modelo_nb.fit(X_train, y_train)\n",
    "\n",
    "# 2) Predecir sobre X_test\n",
    "y_pred = modelo_nb.predict(X_test)\n",
    "\n",
    "# 3) Evaluar\n",
    "print(\"Métricas de clasificación para Naive Bayes:\\n\")\n",
    "print(classification_report(y_test, y_pred, target_names=[\"ham\", \"spam\"]))\n",
    "\n",
    "# 4) Matriz de confusión (opcional visualizarla)\n",
    "cm = confusion_matrix(y_test, y_pred)\n",
    "print(\"Matriz de confusión:\\n\", cm)\n"
   ]
  },
  {
   "cell_type": "code",
   "execution_count": 7,
   "id": "bb5a3fa5-96ab-41e0-878f-e2edb3dd7a5a",
   "metadata": {},
   "outputs": [
    {
     "data": {
      "text/plain": [
       "['../modelos/modelo_naive_bayes_sms_spam.joblib']"
      ]
     },
     "execution_count": 7,
     "metadata": {},
     "output_type": "execute_result"
    }
   ],
   "source": [
    "import joblib\n",
    "joblib.dump(modelo_nb, \"../modelos/modelo_naive_bayes_sms_spam.joblib\")\n"
   ]
  },
  {
   "cell_type": "code",
   "execution_count": 8,
   "id": "56a55e2f-326b-44d4-952c-9241c94f9b6a",
   "metadata": {},
   "outputs": [],
   "source": [
    "with open(\"../modelos/features_vectorizer.txt\", \"w\", encoding=\"utf-8\") as f:\n",
    "    for idx, feature in enumerate(vectorizer.get_feature_names_out()):\n",
    "        f.write(f\"{idx}\\t{feature}\\n\")"
   ]
  },
  {
   "cell_type": "code",
   "execution_count": 9,
   "id": "4d1e376b-278a-44bc-a708-9d450fad65a9",
   "metadata": {},
   "outputs": [],
   "source": [
    "report = classification_report(y_test, y_pred, target_names=[\"ham\", \"spam\"])\n",
    "with open(\"../resultados/reporte_naive_bayes.txt\", \"w\", encoding=\"utf-8\") as f:\n",
    "    f.write(report)"
   ]
  },
  {
   "cell_type": "code",
   "execution_count": 10,
   "id": "3fc3551d-85ea-423c-9bcc-ccfe199dbc3f",
   "metadata": {},
   "outputs": [],
   "source": [
    "import matplotlib.pyplot as plt\n",
    "from sklearn.metrics import roc_curve, auc\n",
    "\n",
    "# Obtener probabilidades (para ROC)\n",
    "y_prob = modelo_nb.predict_proba(X_test)[:, 1]\n",
    "fpr, tpr, _ = roc_curve(y_test, y_prob)\n",
    "roc_auc = auc(fpr, tpr)\n",
    "\n",
    "plt.figure()\n",
    "plt.plot(fpr, tpr, label=f\"ROC curve (area = {roc_auc:.2f})\")\n",
    "plt.plot([0, 1], [0, 1], \"k--\")\n",
    "plt.xlabel(\"False Positive Rate\")\n",
    "plt.ylabel(\"True Positive Rate\")\n",
    "plt.title(\"Curva ROC - Naive Bayes (SMS Spam)\")\n",
    "plt.legend(loc=\"lower right\")\n",
    "plt.grid(True)\n",
    "plt.savefig(\"../resultados/roc_naive_bayes.png\", dpi=150)\n",
    "plt.close()"
   ]
  },
  {
   "cell_type": "code",
   "execution_count": null,
   "id": "b3df4711-05ec-476e-9157-fb90382b7373",
   "metadata": {},
   "outputs": [],
   "source": []
  }
 ],
 "metadata": {
  "kernelspec": {
   "display_name": "Python 3 (ipykernel)",
   "language": "python",
   "name": "python3"
  },
  "language_info": {
   "codemirror_mode": {
    "name": "ipython",
    "version": 3
   },
   "file_extension": ".py",
   "mimetype": "text/x-python",
   "name": "python",
   "nbconvert_exporter": "python",
   "pygments_lexer": "ipython3",
   "version": "3.12.5"
  }
 },
 "nbformat": 4,
 "nbformat_minor": 5
}
